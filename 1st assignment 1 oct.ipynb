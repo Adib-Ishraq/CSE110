{
 "cells": [
  {
   "cell_type": "code",
   "execution_count": 1,
   "id": "92e54d58",
   "metadata": {},
   "outputs": [
    {
     "name": "stdout",
     "output_type": "stream",
     "text": [
      "hello world\n"
     ]
    }
   ],
   "source": [
    "print(\"hello world\")"
   ]
  },
  {
   "cell_type": "code",
   "execution_count": 2,
   "id": "dfdfd38d",
   "metadata": {},
   "outputs": [
    {
     "name": "stdout",
     "output_type": "stream",
     "text": [
      "110\n"
     ]
    }
   ],
   "source": [
    "print(54+56)"
   ]
  },
  {
   "cell_type": "code",
   "execution_count": 4,
   "id": "d32e3e7a",
   "metadata": {},
   "outputs": [
    {
     "name": "stdout",
     "output_type": "stream",
     "text": [
      "Please enter a nameJohn\n",
      "Your name is John\n"
     ]
    }
   ],
   "source": [
    "name=input(\"Please enter a name\")\n",
    "print(\"Your name is\" ,name)"
   ]
  },
  {
   "cell_type": "code",
   "execution_count": 6,
   "id": "9cc7b79f",
   "metadata": {},
   "outputs": [
    {
     "name": "stdout",
     "output_type": "stream",
     "text": [
      "2\n",
      "3\n",
      "2^3: 8\n"
     ]
    }
   ],
   "source": [
    "M=int(input())\n",
    "N=int(input())\n",
    "x=M**N\n",
    "print(str(M)+\"^\"+str(N)+\":\",x)"
   ]
  },
  {
   "cell_type": "code",
   "execution_count": 8,
   "id": "b987cbba",
   "metadata": {},
   "outputs": [
    {
     "name": "stdout",
     "output_type": "stream",
     "text": [
      "9\n",
      "2\n",
      "8\n"
     ]
    }
   ],
   "source": [
    "n=int(input())\n",
    "print(n//4)\n",
    "print(4*2)"
   ]
  },
  {
   "cell_type": "code",
   "execution_count": 15,
   "id": "1c3ac92f",
   "metadata": {},
   "outputs": [
    {
     "name": "stdout",
     "output_type": "stream",
     "text": [
      "2\n",
      "3\n",
      "32\n"
     ]
    }
   ],
   "source": [
    "M=input()\n",
    "N=input()\n",
    "print(N+M)"
   ]
  },
  {
   "cell_type": "code",
   "execution_count": 18,
   "id": "5519513b",
   "metadata": {},
   "outputs": [
    {
     "name": "stdout",
     "output_type": "stream",
     "text": [
      "python\n",
      "p\n"
     ]
    }
   ],
   "source": [
    "x=input()\n",
    "char=x[0]\n",
    "print(char)\n",
    "\n"
   ]
  },
  {
   "cell_type": "code",
   "execution_count": 20,
   "id": "ac29babc",
   "metadata": {},
   "outputs": [
    {
     "name": "stdout",
     "output_type": "stream",
     "text": [
      "7\n",
      "False\n"
     ]
    }
   ],
   "source": [
    "x=int(input())\n",
    "if x%2==0:\n",
    "    print(\"True\")\n",
    "else:\n",
    " print(\"False\")"
   ]
  },
  {
   "cell_type": "code",
   "execution_count": 21,
   "id": "b18d5555",
   "metadata": {},
   "outputs": [
    {
     "name": "stdout",
     "output_type": "stream",
     "text": [
      "7\n",
      "False\n"
     ]
    }
   ],
   "source": [
    "x=int(input())\n",
    "print(bool())"
   ]
  },
  {
   "cell_type": "code",
   "execution_count": 22,
   "id": "74adf9c2",
   "metadata": {},
   "outputs": [
    {
     "name": "stdout",
     "output_type": "stream",
     "text": [
      "2\n",
      "6\n",
      "8\n",
      "1.3\n",
      "267\n"
     ]
    }
   ],
   "source": [
    "A=int(input())\n",
    "B=int(input())\n",
    "C=int(input())\n",
    "D=float(input())\n",
    "n=int(A**C+B*A-D/3)\n",
    "print(n)\n"
   ]
  },
  {
   "cell_type": "code",
   "execution_count": 23,
   "id": "e3a4f516",
   "metadata": {},
   "outputs": [
    {
     "name": "stdout",
     "output_type": "stream",
     "text": [
      "50\n",
      "Each friend will receive 16 chocolates\n",
      "The number of remaining chocolates is 2\n"
     ]
    }
   ],
   "source": [
    "x=int(input())\n",
    "n=x%3\n",
    "print(\"Each friend will receive 16 chocolates\")\n",
    "print(\"The number of remaining chocolates is 2\")\n"
   ]
  },
  {
   "cell_type": "code",
   "execution_count": 1,
   "id": "d1287070",
   "metadata": {},
   "outputs": [
    {
     "name": "stdout",
     "output_type": "stream",
     "text": [
      "2\n",
      "0\n",
      "-1\n",
      "-5\n",
      "-11\n",
      "-22\n",
      "-40\n",
      "-70\n",
      "-119\n"
     ]
    }
   ],
   "source": [
    "\n",
    "myList = [0, 0, 0, 0, 0, 0, 0, 0, 0, 0]\n",
    "b = []\n",
    "index1 = 0\n",
    "index2 = 0\n",
    "index1 = 1\n",
    "b = myList\n",
    "while (index1 < 10):\n",
    "  myList[index1] = index1 + 1\n",
    "  index2 = 1\n",
    "  while (index2 < index1):\n",
    "    myList[index1] = b[index2-1] + myList[index2] - index1\n",
    "    index2 = index2 + 1\n",
    "  print(myList[index1])\n",
    "  index1 = index1 + 1\n",
    "\n"
   ]
  },
  {
   "cell_type": "code",
   "execution_count": null,
   "id": "8258be58",
   "metadata": {},
   "outputs": [],
   "source": []
  }
 ],
 "metadata": {
  "kernelspec": {
   "display_name": "Python 3 (ipykernel)",
   "language": "python",
   "name": "python3"
  },
  "language_info": {
   "codemirror_mode": {
    "name": "ipython",
    "version": 3
   },
   "file_extension": ".py",
   "mimetype": "text/x-python",
   "name": "python",
   "nbconvert_exporter": "python",
   "pygments_lexer": "ipython3",
   "version": "3.9.12"
  }
 },
 "nbformat": 4,
 "nbformat_minor": 5
}
