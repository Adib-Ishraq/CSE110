{
 "cells": [
  {
   "cell_type": "code",
   "execution_count": null,
   "id": "4c0cf1c9",
   "metadata": {},
   "outputs": [],
   "source": []
  },
  {
   "cell_type": "code",
   "execution_count": 2,
   "id": "4e561d46",
   "metadata": {},
   "outputs": [
    {
     "name": "stdout",
     "output_type": "stream",
     "text": [
      "400\n"
     ]
    }
   ],
   "source": [
    "a_tuple = (\"The Institute\", (\"Best Mystery & Thriller\", \"The Silent Patient\", 68821), 75717,\n",
    "[1, 2, 3, 400, 5, 6, 7], (\"Best Fiction\", \"The Testaments\", 98291))\n",
    "print(a_tuple[3][3])"
   ]
  },
  {
   "cell_type": "code",
   "execution_count": 4,
   "id": "69437557",
   "metadata": {},
   "outputs": [
    {
     "name": "stdout",
     "output_type": "stream",
     "text": [
      "(25,)\n"
     ]
    }
   ],
   "source": [
    "#task 2\n",
    "tup=(10, 20, 25, 30, 40)\n",
    "\n",
    "if len(tup)>=4:\n",
    "    print(tup[2:-2])"
   ]
  },
  {
   "cell_type": "code",
   "execution_count": 6,
   "id": "ebb014ab",
   "metadata": {},
   "outputs": [
    {
     "name": "stdout",
     "output_type": "stream",
     "text": [
      "4\n",
      "('Best Mystery & Thriller', 'The Silent Patient', 68, 821)\n",
      "('Best Horror', 'The Institute', 75, 717)\n",
      "('Best History & Biography', 'The five', 31, 783)\n",
      "('Best Fiction', 'The Testaments', 98, 291)\n"
     ]
    }
   ],
   "source": [
    "#TASk 3\n",
    "book_info = (\n",
    "(\"Best Mystery & Thriller\",\"The Silent Patient\",68,821),\n",
    "(\"Best Horror\",\"The Institute\",75,717),\n",
    "(\"Best History & Biography\",\"The five\",31,783 ),\n",
    "(\"Best Fiction\",\"The Testaments\",98,291)\n",
    ")\n",
    "print(len(book_info))\n",
    "for i in book_info:\n",
    "    print(i)\n"
   ]
  },
  {
   "cell_type": "code",
   "execution_count": 8,
   "id": "5a144ae0",
   "metadata": {},
   "outputs": [
    {
     "name": "stdout",
     "output_type": "stream",
     "text": [
      "The Silent Patient won the Best Mystery & Thriller with 68821 votes\n",
      "The Institute won the Best Horror with 75717 votes\n",
      "The five won the Best History & Biography with 31783 votes\n",
      "The Testaments won the Best Fiction with 98291 votes\n"
     ]
    }
   ],
   "source": [
    "#TASK 4\n",
    "book_info = (\n",
    "(\"Best Mystery & Thriller\",\"The Silent Patient\",68821),\n",
    "(\"Best Horror\",\"The Institute\",75717),\n",
    "(\"Best History & Biography\",\"The five\",31783 ),\n",
    "(\"Best Fiction\",\"The Testaments\",98291)\n",
    ") \n",
    "for i in book_info:\n",
    "    category,name,votes=i\n",
    "    print(f\"{name} won the {category} with {votes} votes\")"
   ]
  },
  {
   "cell_type": "code",
   "execution_count": 14,
   "id": "e4db497d",
   "metadata": {},
   "outputs": [
    {
     "name": "stdout",
     "output_type": "stream",
     "text": [
      "Please enter: 8\n",
      "8 appears 4 times in the tuple\n"
     ]
    }
   ],
   "source": [
    "#TASK 5\n",
    "n=int(input(\"Please enter: \"))\n",
    "tup = (10, 8, 5, 2, 10, 15, 10, 8, 5, 8, 8, 2)\n",
    "count=0\n",
    "for i in tup:\n",
    "    if n==i:\n",
    "        count+=1\n",
    "print(f\"{n} appears {count} times in the tuple\")"
   ]
  },
  {
   "cell_type": "code",
   "execution_count": 16,
   "id": "9e1f98a8",
   "metadata": {},
   "outputs": [
    {
     "name": "stdout",
     "output_type": "stream",
     "text": [
      "('h', 'a', 'b', 'c', 'd', 'e', 'f', 'g')\n"
     ]
    }
   ],
   "source": [
    "#Task 6\n",
    "tup=('a', 'b', 'c', 'd', 'e', 'f', 'g', 'h')\n",
    "list1=list(tup)\n",
    "list2=[]\n",
    "for i in range (-1,len(list1)-1):\n",
    "    list2.append(list1[i])\n",
    "print(tuple(list2))"
   ]
  },
  {
   "cell_type": "code",
   "execution_count": 5,
   "id": "9b2ed249",
   "metadata": {},
   "outputs": [
    {
     "name": "stdout",
     "output_type": "stream",
     "text": [
      "{'Harry': 15, 'Draco': 8, 'Nevil': 19, 'Ginie': 18, 'Luna': 14}\n",
      "{'Harry': 15, 'Draco': 8, 'Nevil': 19, 'Ginie': 18, 'Luna': 14}\n",
      "{'Harry': 15, 'Draco': 8, 'Nevil': 19, 'Ginie': 18, 'Luna': 14}\n",
      "{'Harry': 15, 'Draco': 8, 'Nevil': 19, 'Ginie': 18, 'Luna': 14}\n"
     ]
    }
   ],
   "source": [
    "#Task 7\n",
    "dict1={'Harry':15, 'Draco':8, 'Nevil':19}\n",
    "dict2={'Ginie':18, 'Luna': 14}\n",
    "dict1.update(dict2)\n",
    "print(dict1)\n",
    "#or,\n",
    "print(dict1|dict2)\n",
    "#or,\n",
    "dict3={**dict1,**dict2}\n",
    "print(dict3)\n",
    "#or,\n",
    "dict2=dict1\n",
    "print(dict1)"
   ]
  },
  {
   "cell_type": "code",
   "execution_count": 35,
   "id": "779caa1c",
   "metadata": {},
   "outputs": [
    {
     "name": "stdout",
     "output_type": "stream",
     "text": [
      "4\n",
      "Enter key: jon\n",
      "Enter values: 100\n",
      "Enter key: dan\n",
      "Enter values: 200\n",
      "Enter key: ron\n",
      "Enter values: 300\n",
      "Enter key: ned \n",
      "Enter values: 110\n",
      "{'jon': '100', 'dan': '200', 'ron': '300', 'ned ': '110'}\n",
      "average is 177\n"
     ]
    }
   ],
   "source": [
    "#task 8\n",
    "n=int(input())\n",
    "dict1={}\n",
    "for i in range(n):\n",
    "    key=input(\"Enter key: \")\n",
    "    value=input(\"Enter values: \") # string hishebe dicchi\n",
    "    dict1[key]=value\n",
    "print(dict1)\n",
    "add=0\n",
    "for i in dict1.values():\n",
    "    add+=int(i) # string ke int kora lagbe\n",
    "print(f\"average is {add//n}\")"
   ]
  },
  {
   "cell_type": "code",
   "execution_count": 11,
   "id": "8e199513",
   "metadata": {},
   "outputs": [
    {
     "name": "stdout",
     "output_type": "stream",
     "text": [
      "170\n",
      "{'Cierra Vega': 175, 'Alden Cantrell': 200, 'Pierre Cox': 190}\n"
     ]
    }
   ],
   "source": [
    "#TASK 9\n",
    "exam_marks = {'Cierra Vega': 175, 'Alden Cantrell': 200, 'Kierra Gentry': 165, 'Pierre Cox': 190}\n",
    "dict1=exam_marks.copy()\n",
    "n=int(input())\n",
    "\n",
    "for key,value in exam_marks.items():\n",
    "    if (n>=dict1[key]):\n",
    "        del dict1[key]\n",
    "print(dict1)"
   ]
  },
  {
   "cell_type": "code",
   "execution_count": 4,
   "id": "23247108",
   "metadata": {},
   "outputs": [
    {
     "name": "stdout",
     "output_type": "stream",
     "text": [
      "The highest selling book genre is 'mystery' and the number of books sold are 15\n"
     ]
    }
   ],
   "source": [
    "#Task 10\n",
    "dict1={'sci fi': 12, 'mystery': 15, 'horror': 8, 'mythology': 10, 'young_adult': 4, 'adventure':14}\n",
    "maxm=dict1['sci fi']\n",
    "for key in dict1.keys():\n",
    "    if dict1[key]>maxm:\n",
    "        maxm=dict1[key]\n",
    "        name=(key)\n",
    "print(f\"The highest selling book genre is '{name}' and the number of books sold are {maxm}\")"
   ]
  },
  {
   "cell_type": "code",
   "execution_count": 3,
   "id": "dd469831",
   "metadata": {},
   "outputs": [
    {
     "name": "stdout",
     "output_type": "stream",
     "text": [
      "PLEASE INSERT: \"pythion is fun\"\n",
      "pythionisfun\n",
      "{'p': 1, 'y': 1, 't': 1, 'h': 1, 'i': 2, 'o': 1, 'n': 2, 's': 1, 'f': 1, 'u': 1}\n"
     ]
    }
   ],
   "source": [
    "#TASK 11\n",
    "n=input(\"PLEASE INSERT: \")\n",
    "x=n.strip('\"\"').replace(\" \",\"\").lower()\n",
    "dict1={}\n",
    "print(x)\n",
    "for i in x:\n",
    "    if i in dict1:\n",
    "        dict1[i]+=1\n",
    "    else:\n",
    "        dict1[i]=1\n",
    "print(dict1)"
   ]
  },
  {
   "cell_type": "code",
   "execution_count": 19,
   "id": "977e0fac",
   "metadata": {},
   "outputs": [
    {
     "name": "stdout",
     "output_type": "stream",
     "text": [
      "9\n"
     ]
    }
   ],
   "source": [
    "#TASK 12\n",
    "dict_1 = {'A': [1, 2, 3], 'b': ['1', '2'], \"c\": [4, 5, 6, 7]}\n",
    "count=0\n",
    "for i in dict_1.values():\n",
    "    for val in i:\n",
    "        count+=1\n",
    "print(count)"
   ]
  },
  {
   "cell_type": "code",
   "execution_count": 2,
   "id": "cce508c8",
   "metadata": {},
   "outputs": [
    {
     "name": "stdout",
     "output_type": "stream",
     "text": [
      "{'a': [1, 3, 2], 'b': [2, 1], 'c': [1]}\n"
     ]
    }
   ],
   "source": [
    "#TASK 13 (my method)\n",
    "list1=[(\"a\", 1), (\"b\", 2), (\"a\", 3), (\"b\", 1), (\"a\", 2), (\"c\", 1)]\n",
    "dict1={}\n",
    "for tup in list1:\n",
    "    key,value = tup\n",
    "    if key in dict1.keys():\n",
    "        dict1[key].append(value)\n",
    "    else:\n",
    "        dict1[key] = [value]\n",
    "print(dict1)\n",
    "#or,"
   ]
  },
  {
   "cell_type": "code",
   "execution_count": 3,
   "id": "e7ee4c6e",
   "metadata": {},
   "outputs": [
    {
     "name": "stdout",
     "output_type": "stream",
     "text": [
      "{'a': [1, 3, 2], 'b': [2, 1], 'c': [1]}\n",
      "{'a': [1, 3, 2], 'b': [2, 1], 'c': [1]}\n"
     ]
    }
   ],
   "source": [
    "#alternate methods\n",
    "a_list = [(\"a\", 1), (\"b\", 2), (\"a\", 3), (\"b\", 1), (\"a\", 2), (\"c\", 1)]\n",
    "a_dict = {}\n",
    "for a_tuple in a_list:\n",
    "    key, value = a_tuple\n",
    "    \n",
    "    if(key in a_dict):\n",
    "        a_dict[key].append(value)\n",
    "        continue\n",
    "    a_dict[key] = [value] \n",
    "print(a_dict)\n",
    "#or,\n",
    "list1 = [(\"a\", 1), (\"b\", 2), (\"a\", 3), (\"b\", 1), (\"a\", 2), (\"c\", 1)]\n",
    "d={}\n",
    "\n",
    "for tup in list1:\n",
    "    key,value=tup\n",
    "    if key not in d.keys():\n",
    "        d[key]=[value]\n",
    "    else:\n",
    "        d[key].append(value)\n",
    "print(d)\n",
    "        "
   ]
  },
  {
   "cell_type": "code",
   "execution_count": 2,
   "id": "74ec639b",
   "metadata": {},
   "outputs": [
    {
     "name": "stdout",
     "output_type": "stream",
     "text": [
      "{'a': [1, 3, 2], 'b': [2, 1], 'c': [1]}\n"
     ]
    }
   ],
   "source": [
    "list1=[(\"a\", 1), (\"b\", 2), (\"a\", 3), (\"b\", 1), (\"a\", 2), (\"c\", 1)]\n",
    "dict1=dict()\n",
    "for key,val in list1:\n",
    "    dict1.setdefault(key,[]).append(val)\n",
    "print(dict1)"
   ]
  },
  {
   "cell_type": "code",
   "execution_count": 24,
   "id": "65772f97",
   "metadata": {},
   "outputs": [
    {
     "name": "stdout",
     "output_type": "stream",
     "text": [
      "[6, 20, 42, 16]\n"
     ]
    }
   ],
   "source": [
    "#task 15\n",
    "given=[(2, 3), (4, 5), (6, 7), (2, 8)]\n",
    "list1=[]\n",
    "for tup in given:\n",
    "    one,two=tup\n",
    "    multiply=one*two\n",
    "    list1.append(multiply)\n",
    "print(list1)\n"
   ]
  },
  {
   "cell_type": "code",
   "execution_count": 12,
   "id": "8e6beb6c",
   "metadata": {},
   "outputs": [
    {
     "name": "stdout",
     "output_type": "stream",
     "text": [
      "enter: abc\n",
      "([1, 2, 'abc'], [4, 5, 'abc'], [7, 8, 'abc'], [10, 11, 'abc'])\n"
     ]
    },
    {
     "ename": "TypeError",
     "evalue": "'int' object does not support item assignment",
     "output_type": "error",
     "traceback": [
      "\u001b[1;31m---------------------------------------------------------------------------\u001b[0m",
      "\u001b[1;31mTypeError\u001b[0m                                 Traceback (most recent call last)",
      "Input \u001b[1;32mIn [12]\u001b[0m, in \u001b[0;36m<cell line: 8>\u001b[1;34m()\u001b[0m\n\u001b[0;32m      8\u001b[0m \u001b[38;5;28;01mfor\u001b[39;00m i \u001b[38;5;129;01min\u001b[39;00m a_tuple:\n\u001b[0;32m      9\u001b[0m     \u001b[38;5;28;01mfor\u001b[39;00m j \u001b[38;5;129;01min\u001b[39;00m i:\n\u001b[1;32m---> 10\u001b[0m         j[\u001b[38;5;241m-\u001b[39m\u001b[38;5;241m1\u001b[39m]\u001b[38;5;241m=\u001b[39minp\n\u001b[0;32m     11\u001b[0m \u001b[38;5;28mprint\u001b[39m(a_tuple)\n",
      "\u001b[1;31mTypeError\u001b[0m: 'int' object does not support item assignment"
     ]
    }
   ],
   "source": [
    "#task 16\n",
    "a_tuple = ( [1, 2, 3], [4, 5, 6], [7, 8, 9], [10, 11, 12])\n",
    "inp=input(\"enter: \")\n",
    "for item in a_tuple:\n",
    "    item[-1]=inp\n",
    "print(a_tuple)\n",
    "#====================================================\n",
    "for i in a_tuple:\n",
    "    for j in i:\n",
    "        j[-1]=inp\n",
    "print(a_tuple)"
   ]
  },
  {
   "cell_type": "code",
   "execution_count": 46,
   "id": "7459a9e0",
   "metadata": {},
   "outputs": [
    {
     "name": "stdout",
     "output_type": "stream",
     "text": [
      "{'c1': 'Red', 'c2': 'Green', 'd4': 'Blue'}\n"
     ]
    }
   ],
   "source": [
    "#Task 17\n",
    "mydict = { 'c1':'Red', 'c2':'Green',\n",
    "                'c3':None,\n",
    "                'd4':'Blue',\n",
    "                'a5':None }\n",
    "new=mydict.copy()\n",
    "for val in mydict.keys():\n",
    "    if new[val]==None:\n",
    "        del new[val]\n",
    "print(new)"
   ]
  },
  {
   "cell_type": "code",
   "execution_count": 5,
   "id": "e37ae212",
   "metadata": {},
   "outputs": [
    {
     "name": "stdout",
     "output_type": "stream",
     "text": [
      "{'c1': 'Red', 'c2': 'Green', 'd4': 'Blue'}\n",
      "{'c1': 'Red', 'c2': 'Green', 'd4': 'Blue'}\n"
     ]
    }
   ],
   "source": [
    "my_dictionary = {'c1':'Red', \n",
    "                 'c2':'Green',\n",
    "                 'c3':None, \n",
    "                 'd4':'Blue',\n",
    "                 'a5':None}\n",
    "pop=[\"c3\", \"a5\"]\n",
    "for i in pop:\n",
    "    my_dictionary.pop(i)\n",
    "print(my_dictionary)\n",
    "# or,\n",
    "d={}\n",
    "for key,value in my_dictionary.items():\n",
    "    if value != None:\n",
    "        d[key] = value\n",
    "print(d)"
   ]
  },
  {
   "cell_type": "code",
   "execution_count": 50,
   "id": "06f81a97",
   "metadata": {},
   "outputs": [
    {
     "name": "stdout",
     "output_type": "stream",
     "text": [
      "14\n",
      "18\n",
      "{}\n"
     ]
    }
   ],
   "source": [
    "#task 18\n",
    "dict_1 = {'a' : 6,'b' : 7, 'c' : 9,'d' : 8, 'e' : 11, \n",
    "          'f' : 12,\n",
    "          'g' : 13}\n",
    "lower=int(input())\n",
    "upper=int(input())\n",
    "new={}\n",
    "for key,value in dict_1.items():\n",
    "    if value>=lower and value<upper:\n",
    "        new[key]=value\n",
    "print(new)"
   ]
  },
  {
   "cell_type": "code",
   "execution_count": 17,
   "id": "15e4d117",
   "metadata": {},
   "outputs": [
    {
     "name": "stdout",
     "output_type": "stream",
     "text": [
      "{80: [(20, 80), (31, 80)], 22: [(1, 22)], 11: [(88, 11), (27, 11)]}\n"
     ]
    }
   ],
   "source": [
    "#TAsk 19\n",
    "Input = [(20, 80), (31, 80), (1, 22), (88, 11), (27, 11)]\n",
    "Output = {}\n",
    "for x, y in Input:\n",
    "    if y in Output:\n",
    "        Output[y].append((x, y))\n",
    "    else:\n",
    "        Output[y] = [(x, y)]\n",
    "print(Output)"
   ]
  },
  {
   "cell_type": "code",
   "execution_count": 19,
   "id": "53987df8",
   "metadata": {},
   "outputs": [
    {
     "name": "stdout",
     "output_type": "stream",
     "text": [
      "{80: [(20, 80), (31, 80)], 22: [(1, 22)], 11: [(88, 11), (27, 11)]}\n"
     ]
    }
   ],
   "source": [
    "#task 19\n",
    "glist = [(20, 80), (31, 80), (1, 22), (88, 11), (27, 11)]\n",
    "d={}\n",
    "for i in glist:\n",
    "    if i[1] not in d:\n",
    "        key=i[1]\n",
    "        val=i\n",
    "        d[key]=[val]\n",
    "    else:\n",
    "        key=i[1]\n",
    "        d[key].append(i)\n",
    "print(d)"
   ]
  },
  {
   "cell_type": "code",
   "execution_count": null,
   "id": "2b94eb0d",
   "metadata": {},
   "outputs": [],
   "source": []
  }
 ],
 "metadata": {
  "kernelspec": {
   "display_name": "Python 3 (ipykernel)",
   "language": "python",
   "name": "python3"
  },
  "language_info": {
   "codemirror_mode": {
    "name": "ipython",
    "version": 3
   },
   "file_extension": ".py",
   "mimetype": "text/x-python",
   "name": "python",
   "nbconvert_exporter": "python",
   "pygments_lexer": "ipython3",
   "version": "3.9.12"
  }
 },
 "nbformat": 4,
 "nbformat_minor": 5
}
