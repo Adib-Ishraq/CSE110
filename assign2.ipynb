{
 "cells": [
  {
   "cell_type": "code",
   "execution_count": 11,
   "id": "34bb1e37",
   "metadata": {},
   "outputs": [
    {
     "name": "stdout",
     "output_type": "stream",
     "text": [
      "4\n",
      "Area is 50.26548245743669\n",
      "Circumference is 25.132741228718345\n"
     ]
    }
   ],
   "source": [
    "import math #task2\n",
    "radius=float(input())\n",
    "area=math.pi*radius**2\n",
    "circumference=2*math.pi*radius\n",
    "print(\"Area is\",area)\n",
    "print(\"Circumference is\",circumference)\n"
   ]
  },
  {
   "cell_type": "code",
   "execution_count": 5,
   "id": "be1b95b1",
   "metadata": {},
   "outputs": [
    {
     "name": "stdout",
     "output_type": "stream",
     "text": [
      "4\n",
      "5\n",
      "Sum = 9\n",
      "product = 20\n",
      "Differance = -1\n"
     ]
    }
   ],
   "source": [
    "num1=int(input()) #task1\n",
    "num2=int(input())\n",
    "Sum=num1+num2\n",
    "product=num1*num2\n",
    "Differance=num1-num2\n",
    "print(\"Sum =\",Sum)\n",
    "print(\"product =\",product)\n",
    "print(\"Differance =\",Differance)"
   ]
  },
  {
   "cell_type": "code",
   "execution_count": 1,
   "id": "86582b44",
   "metadata": {},
   "outputs": [
    {
     "name": "stdout",
     "output_type": "stream",
     "text": [
      "Please enter a number here:7\n",
      "Please enter a number here:3\n",
      "First is greater\n"
     ]
    }
   ],
   "source": [
    "num_1=int(input(\"Please enter a number here:\")) #task3\n",
    "num_2=int(input(\"Please enter a number here:\"))\n",
    "if (num_1>num_2):\n",
    "    print(\"First is greater\")\n",
    "elif (num_2>num_1):\n",
    "    print(\"Second is greater\")\n",
    "else:\n",
    "    print(\"The numbers are equal\")"
   ]
  },
  {
   "cell_type": "code",
   "execution_count": 2,
   "id": "1ee89a26",
   "metadata": {},
   "outputs": [
    {
     "name": "stdout",
     "output_type": "stream",
     "text": [
      "-40\n",
      "-4\n",
      "36\n"
     ]
    }
   ],
   "source": [
    "num1=int(input()) #task4\n",
    "num2=int(input())\n",
    "if (num2>num1):\n",
    "    subtract=num2-num1\n",
    "    print(subtract)-\n",
    "\n"
   ]
  },
  {
   "cell_type": "code",
   "execution_count": null,
   "id": "c7e7237d",
   "metadata": {},
   "outputs": [],
   "source": []
  },
  {
   "cell_type": "code",
   "execution_count": 3,
   "id": "dcb0b58c",
   "metadata": {},
   "outputs": [
    {
     "name": "stdout",
     "output_type": "stream",
     "text": [
      "7\n",
      "The number is odd\n"
     ]
    }
   ],
   "source": [
    "num1=int(input()) #task5\n",
    "if num1%2==0:\n",
    "    print(\"The number is even\")\n",
    "else:\n",
    "    print(\"The number is odd\")\n"
   ]
  },
  {
   "cell_type": "code",
   "execution_count": 9,
   "id": "0ce55437",
   "metadata": {},
   "outputs": [
    {
     "name": "stdout",
     "output_type": "stream",
     "text": [
      "3\n",
      "Not a multiple of 2 OR 5\n"
     ]
    }
   ],
   "source": [
    "num1=int(input()) #task6\n",
    "if (num1%2==0 or num1%5==0):\n",
    "    print(num1)\n",
    "else:\n",
    "    print(\"Not a multiple of 2 OR 5\")\n",
    "\n"
   ]
  },
  {
   "cell_type": "code",
   "execution_count": null,
   "id": "153e0d89",
   "metadata": {},
   "outputs": [],
   "source": []
  },
  {
   "cell_type": "code",
   "execution_count": 1,
   "id": "59095cdb",
   "metadata": {},
   "outputs": [
    {
     "name": "stdout",
     "output_type": "stream",
     "text": [
      "6\n",
      "6\n"
     ]
    }
   ],
   "source": [
    "num1=int(input()) #task7\n",
    "if (num1%2==0 or num1%5==0):\n",
    "    if num1%2 != num1%5:\n",
    "        print(num1)\n",
    "    else:\n",
    "        print(\"Multiple of 2 and 5 both\")\n",
    "else:\n",
    "    print(\"Not a multiple we want\")\n"
   ]
  },
  {
   "cell_type": "code",
   "execution_count": 3,
   "id": "53975f61",
   "metadata": {},
   "outputs": [
    {
     "name": "stdout",
     "output_type": "stream",
     "text": [
      "Please enter a number here:15\n",
      "Not multiple of 2 and 5 both\n"
     ]
    }
   ],
   "source": [
    "num=int(input(\"Please enter a number here:\")) #task8\n",
    "if num%2==0 and num%5==0:\n",
    "    print(num)\n",
    "else:\n",
    "    print(\"Not multiple of 2 and 5 both\")"
   ]
  },
  {
   "cell_type": "markdown",
   "id": "0627176c",
   "metadata": {},
   "source": [
    "num=int(input())\n",
    "if num%2==0 and num%5==0:\n",
    "    print(num)\n",
    "else:\n",
    "    print(\"Not multiple of 2 and 5 both\")"
   ]
  },
  {
   "cell_type": "markdown",
   "id": "ea902214",
   "metadata": {},
   "source": []
  },
  {
   "cell_type": "code",
   "execution_count": 29,
   "id": "f3c56a71",
   "metadata": {},
   "outputs": [
    {
     "name": "stdout",
     "output_type": "stream",
     "text": [
      "10000\n",
      "Hours : 2 Minutes : 46 Seconds : 40\n"
     ]
    }
   ],
   "source": [
    "seconds=int(input()) #task9\n",
    "hour=seconds//3600\n",
    "sec2=seconds%3600\n",
    "minute=sec2//60\n",
    "sec3=sec2%60\n",
    "print('Hours',':',hour,'Minutes',':',minute,'Seconds',':',sec3)"
   ]
  },
  {
   "cell_type": "code",
   "execution_count": 5,
   "id": "602528fc",
   "metadata": {},
   "outputs": [
    {
     "name": "stdout",
     "output_type": "stream",
     "text": [
      "10000\n",
      "hour 2 min 46 sec 40\n"
     ]
    }
   ],
   "source": [
    "s=int(input())\n",
    "hour=s//3600\n",
    "s2=s%3600\n",
    "minit=s2//60\n",
    "s3=s2%60\n",
    "print(\"hour\",hour,\"min\",minit,\"sec\",s3)"
   ]
  },
  {
   "cell_type": "code",
   "execution_count": 6,
   "id": "6d0124eb",
   "metadata": {},
   "outputs": [
    {
     "name": "stdout",
     "output_type": "stream",
     "text": [
      "Please enter your working hour here:190\n",
      "Impossible to work more than 168 hours weekly\n"
     ]
    }
   ],
   "source": [
    "working_hours=int(input(\"Please enter your working hour here:\")) #task10\n",
    "if (working_hours<=40)and(working_hours>=0):\n",
    "    salary=(working_hours*200)\n",
    "    print(salary)\n",
    "elif working_hours>168:\n",
    "    print(\"Impossible to work more than 168 hours weekly\")\n",
    "elif working_hours<0:\n",
    "    print(\"Hours cannot be negative\")\n",
    "elif working_hours>40:\n",
    "    salary=(8000+(working_hours-40)*300)\n",
    "    print(salary)"
   ]
  },
  {
   "cell_type": "code",
   "execution_count": 1,
   "id": "f0f10f29",
   "metadata": {},
   "outputs": [
    {
     "name": "stdout",
     "output_type": "stream",
     "text": [
      "100\n",
      "2568.965517241379\n"
     ]
    }
   ],
   "source": [
    "s=int(input()) #task11\n",
    "if s<100:\n",
    "    L=3000-125*s**2\n",
    "    print(L)\n",
    "elif s>=100:\n",
    "    L=12000/(4+s**2/14900)\n",
    "    print(L)"
   ]
  },
  {
   "cell_type": "code",
   "execution_count": 2,
   "id": "5f10e434",
   "metadata": {},
   "outputs": [
    {
     "name": "stdout",
     "output_type": "stream",
     "text": [
      "21\n",
      "Patience is a virtue\n"
     ]
    }
   ],
   "source": [
    "time=int(input()) #task12\n",
    "if time==4 or time==6:\n",
    "    print(\"Breakfast\")\n",
    "elif time==12 or time==13:\n",
    "    print(\"Lunch\")\n",
    "elif time==16 or time==17:\n",
    "    print(\"Snacks\")\n",
    "elif time==19 or time==20:\n",
    "    print(\"Dinner\")\n",
    "else:\n",
    "    if (time>=0 or time<=23):\n",
    "        print(\"Patience is a virtue\")\n",
    "    else:\n",
    "        print(\"wrong time\")\n",
    "        \n",
    "    \n",
    "\n"
   ]
  },
  {
   "cell_type": "code",
   "execution_count": 5,
   "id": "46f89c6e",
   "metadata": {},
   "outputs": [
    {
     "name": "stdout",
     "output_type": "stream",
     "text": [
      "Please enter your marks here :110\n"
     ]
    }
   ],
   "source": [
    "marks=int(input(\"Please enter your marks here :\")) #task13\n",
    "if (marks>=90 and marks<=100):\n",
    "    print(\"A\")\n",
    "elif (marks>=80 and marks<=89):\n",
    "    print(\"B\")\n",
    "elif (marks>=70 and marks<=79):\n",
    "    print(\"c\")\n",
    "elif (marks>=60 and marks<=69):\n",
    "    print(\"D\")\n",
    "elif (marks>=50 and marks<=59):\n",
    "    print(\"E\")\n",
    "elif (marks>=0 and marks<50):\n",
    "    print(\"F\")\n",
    "\n",
    "    "
   ]
  },
  {
   "cell_type": "code",
   "execution_count": 10,
   "id": "e3bdef45",
   "metadata": {
    "scrolled": true
   },
   "outputs": [
    {
     "name": "stdout",
     "output_type": "stream",
     "text": [
      "133423423434\n",
      "123\n",
      "Too fast.Only a few changes should suffice.\n"
     ]
    }
   ],
   "source": [
    "distance=int(input()) #task14\n",
    "time=int(input())\n",
    "distance_km=distance/1000\n",
    "hour=time/3600\n",
    "kmph=(distance_km/hour)\n",
    "if (kmph<60):\n",
    "    print(\"Too slow.Needs more changes\")\n",
    "elif (kmph>=60 or kmph<=90):\n",
    "    print(\"Velocity is okay.The car is ready!\")\n",
    "else:\n",
    "    if (kmph>90):\n",
    "        print(\"Too fast.Only a few changes should suffice.\")\n"
   ]
  },
  {
   "cell_type": "code",
   "execution_count": 8,
   "id": "427ef4c9",
   "metadata": {},
   "outputs": [
    {
     "name": "stdout",
     "output_type": "stream",
     "text": [
      "Enter your cgpa here:4.00\n",
      "Enter your credits here:32\n",
      "The student is eligible for a waiver of 100 percent.\n"
     ]
    }
   ],
   "source": [
    "cgpa=float(input(\"Enter your cgpa here:\")) #task15\n",
    "credits=int(input(\"Enter your credits here:\"))\n",
    "if(credits>=30):\n",
    "    if(cgpa>=3.80 and cgpa<=3.89):\n",
    "        print(\"The student is eligible for a waiver of 25 percent.\")\n",
    "    elif(cgpa>=3.90 and cgpa<=3.94):\n",
    "        print(\"The student is eligible for a waiver of 50 percent.\")\n",
    "    elif(cgpa>=3.95 and cgpa<=3.99):\n",
    "        print(\"The student is eligible for a waiver of 75 percent.\")\n",
    "    elif(cgpa==4.00):\n",
    "        print(\"The student is eligible for a waiver of 100 percent.\")\n",
    "elif(cgpa<3.80):\n",
    "    print(\"Not eligible for a waiver\")\n",
    "    \n"
   ]
  },
  {
   "cell_type": "code",
   "execution_count": null,
   "id": "9dac30c7",
   "metadata": {},
   "outputs": [],
   "source": [
    "#ungraded task 23\n",
    "temparature=float(input(\"Please enter the temp. here:\"))\n",
    "temp1=((temparature)-32)*.56\n",
    "print(temp1)\n",
    "if temp1<20:\n",
    "    print(\"winter\")\n",
    "elif temp1>=20 and temp1<=25:\n",
    "    print(\"autumn\")\n",
    "elif temp1>25 and temp1<30:\n",
    "    print(\"spring\")\n",
    "elif temp1>=30:\n",
    "    print(\"summer\")\n"
   ]
  },
  {
   "cell_type": "code",
   "execution_count": 8,
   "id": "2391db8e",
   "metadata": {},
   "outputs": [
    {
     "data": {
      "text/plain": [
       "1"
      ]
     },
     "execution_count": 8,
     "metadata": {},
     "output_type": "execute_result"
    }
   ],
   "source": [
    "9%2\n"
   ]
  }
 ],
 "metadata": {
  "kernelspec": {
   "display_name": "Python 3 (ipykernel)",
   "language": "python",
   "name": "python3"
  },
  "language_info": {
   "codemirror_mode": {
    "name": "ipython",
    "version": 3
   },
   "file_extension": ".py",
   "mimetype": "text/x-python",
   "name": "python",
   "nbconvert_exporter": "python",
   "pygments_lexer": "ipython3",
   "version": "3.9.12"
  }
 },
 "nbformat": 4,
 "nbformat_minor": 5
}
