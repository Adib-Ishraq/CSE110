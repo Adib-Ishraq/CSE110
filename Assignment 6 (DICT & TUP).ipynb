{
 "cells": [
  {
   "cell_type": "code",
   "execution_count": null,
   "id": "4c0cf1c9",
   "metadata": {},
   "outputs": [],
   "source": []
  },
  {
   "cell_type": "code",
   "execution_count": 2,
   "id": "4e561d46",
   "metadata": {},
   "outputs": [
    {
     "name": "stdout",
     "output_type": "stream",
     "text": [
      "400\n"
     ]
    }
   ],
   "source": [
    "#Assume, you have been given a tuple.\n",
    "#a_tuple = (\"The Institute\", (\"Best Mystery & Thriller\", \"The Silent Patient\", 68821), 75717,\n",
    "#[1, 2, 3, 400, 5, 6, 7], (\"Best Fiction\", \"The Testaments\", 98291))\n",
    "#Write one line of Python code to access and print the value 400.\n",
    "\n",
    "\n",
    "a_tuple = (\"The Institute\", (\"Best Mystery & Thriller\", \"The Silent Patient\", 68821), 75717,\n",
    "[1, 2, 3, 400, 5, 6, 7], (\"Best Fiction\", \"The Testaments\", 98291))\n",
    "print(a_tuple[3][3])"
   ]
  },
  {
   "cell_type": "code",
   "execution_count": 4,
   "id": "69437557",
   "metadata": {},
   "outputs": [
    {
     "name": "stdout",
     "output_type": "stream",
     "text": [
      "(25,)\n"
     ]
    }
   ],
   "source": [
    "#task 2\n",
    "#Assume, you have been given a tuple. Write a Python program that creates a new tuple excluding the first and last two elements of the given tuple and prints the new tuple.\n",
    "#Hint: You may use tuple slicing.\n",
    "\n",
    "\n",
    "tup=(10, 20, 25, 30, 40)\n",
    "\n",
    "if len(tup)>=4:\n",
    "    print(tup[2:-2])"
   ]
  },
  {
   "cell_type": "code",
   "execution_count": 6,
   "id": "ebb014ab",
   "metadata": {},
   "outputs": [
    {
     "name": "stdout",
     "output_type": "stream",
     "text": [
      "4\n",
      "('Best Mystery & Thriller', 'The Silent Patient', 68, 821)\n",
      "('Best Horror', 'The Institute', 75, 717)\n",
      "('Best History & Biography', 'The five', 31, 783)\n",
      "('Best Fiction', 'The Testaments', 98, 291)\n"
     ]
    }
   ],
   "source": [
    "#TASk 3\n",
    "#Assume, you have been given a tuple.\n",
    "#book_info = (\n",
    "#(\"Best Mystery & Thriller\",\"The Silent Patient\",68,821),\n",
    "#(\"Best Horror\",\"The Institute\",75,717),\n",
    "#(\"Best History & Biography\",\"The five\",31,783 ),\n",
    "#(\"Best Fiction\",\"The Testaments\",98,291)\n",
    "#)\n",
    "#Write a Python program that prints the size of the tuple and all its elements as shown be\n",
    "\n",
    "book_info = (\n",
    "(\"Best Mystery & Thriller\",\"The Silent Patient\",68,821),\n",
    "(\"Best Horror\",\"The Institute\",75,717),\n",
    "(\"Best History & Biography\",\"The five\",31,783 ),\n",
    "(\"Best Fiction\",\"The Testaments\",98,291)\n",
    ")\n",
    "print(len(book_info))\n",
    "for i in book_info:\n",
    "    print(i)\n"
   ]
  },
  {
   "cell_type": "code",
   "execution_count": 8,
   "id": "5a144ae0",
   "metadata": {},
   "outputs": [
    {
     "name": "stdout",
     "output_type": "stream",
     "text": [
      "The Silent Patient won the Best Mystery & Thriller with 68821 votes\n",
      "The Institute won the Best Horror with 75717 votes\n",
      "The five won the Best History & Biography with 31783 votes\n",
      "The Testaments won the Best Fiction with 98291 votes\n"
     ]
    }
   ],
   "source": [
    "#TASK 4\n",
    "#Assume, you have been given a tuple with details about books that won the Good Reads Choice Awards.\n",
    "#book_info = (\n",
    "#(\"Best Mystery & Thriller\",\"The Silent Patient\",68821),\n",
    "#(\"Best Horror\",\"The Institute\",75717),\n",
    "#(\"Best History & Biography\",\"The five\",31783 ),\n",
    "#(\"Best Fiction\",\"The Testaments\",98291)) \n",
    "#Write a Python program that prints the award category, the book name, and its total votes earned as shown below.\n",
    "#[Must use Tuple unpacking for printing and need to handle the quotation marks as a part of the outp\n",
    "\n",
    "book_info = (\n",
    "(\"Best Mystery & Thriller\",\"The Silent Patient\",68821),\n",
    "(\"Best Horror\",\"The Institute\",75717),\n",
    "(\"Best History & Biography\",\"The five\",31783 ),\n",
    "(\"Best Fiction\",\"The Testaments\",98291)\n",
    ") \n",
    "for i in book_info:\n",
    "    category,name,votes=i\n",
    "    print(f\"{name} won the {category} with {votes} votes\")"
   ]
  },
  {
   "cell_type": "code",
   "execution_count": 14,
   "id": "e4db497d",
   "metadata": {},
   "outputs": [
    {
     "name": "stdout",
     "output_type": "stream",
     "text": [
      "Please enter: 8\n",
      "8 appears 4 times in the tuple\n"
     ]
    }
   ],
   "source": [
    "#TASK 5\n",
    "#Write a python program that takes an input from the user and finds the number of times that the input is present in a given tuple.\n",
    "\n",
    "n=int(input(\"Please enter: \"))\n",
    "tup = (10, 8, 5, 2, 10, 15, 10, 8, 5, 8, 8, 2)\n",
    "count=0\n",
    "for i in tup:\n",
    "    if n==i:\n",
    "        count+=1\n",
    "print(f\"{n} appears {count} times in the tuple\")"
   ]
  },
  {
   "cell_type": "code",
   "execution_count": 16,
   "id": "9e1f98a8",
   "metadata": {},
   "outputs": [
    {
     "name": "stdout",
     "output_type": "stream",
     "text": [
      "('h', 'a', 'b', 'c', 'd', 'e', 'f', 'g')\n"
     ]
    }
   ],
   "source": [
    "#Task 6\n",
    "#Write a Python program to reverse a given tuple.\n",
    "#[You are not allowed to use slicing]\n",
    "#===================================================================\n",
    "#Note: Unlike lists, tuples are immutable. So, in order to reverse a tuple, we may need to convert it into a list first, then modify the list, and finally convert it back to a tuple.\n",
    "\n",
    "tup=('a', 'b', 'c', 'd', 'e', 'f', 'g', 'h')\n",
    "list1=list(tup)\n",
    "list2=[]\n",
    "for i in range (-1,len(list1)-1):\n",
    "    list2.append(list1[i])\n",
    "print(tuple(list2))"
   ]
  },
  {
   "cell_type": "code",
   "execution_count": 5,
   "id": "9b2ed249",
   "metadata": {},
   "outputs": [
    {
     "name": "stdout",
     "output_type": "stream",
     "text": [
      "{'Harry': 15, 'Draco': 8, 'Nevil': 19, 'Ginie': 18, 'Luna': 14}\n",
      "{'Harry': 15, 'Draco': 8, 'Nevil': 19, 'Ginie': 18, 'Luna': 14}\n",
      "{'Harry': 15, 'Draco': 8, 'Nevil': 19, 'Ginie': 18, 'Luna': 14}\n",
      "{'Harry': 15, 'Draco': 8, 'Nevil': 19, 'Ginie': 18, 'Luna': 14}\n"
     ]
    }
   ],
   "source": [
    "#Task 7\n",
    "#Suppose you are given two dictionaries.\n",
    "#Now create a new dictionary \"marks\", merging the two dictionaries, so that the original two dictionaries remain unchanged.\n",
    "#Note: You can use dictionary functions.\n",
    "\n",
    "\n",
    "\n",
    "dict1={'Harry':15, 'Draco':8, 'Nevil':19}\n",
    "dict2={'Ginie':18, 'Luna': 14}\n",
    "dict1.update(dict2)\n",
    "print(dict1)\n",
    "#or,\n",
    "print(dict1|dict2)\n",
    "#or,\n",
    "dict3={**dict1,**dict2}\n",
    "print(dict3)\n",
    "#or,\n",
    "dict2=dict1\n",
    "print(dict1)"
   ]
  },
  {
   "cell_type": "code",
   "execution_count": 2,
   "id": "c8b289f4",
   "metadata": {},
   "outputs": [
    {
     "name": "stdout",
     "output_type": "stream",
     "text": [
      "3\n",
      "Enter key: JON\n",
      "Enter values: 100\n",
      "Enter key: ROB\n",
      "Enter values: 300\n",
      "Enter key: DAN\n",
      "Enter values: 200\n",
      "{'JON': '100', 'ROB': '300', 'DAN': '200'}\n",
      "average is 200\n"
     ]
    }
   ],
   "source": [
    "# Write a Python program that takes a dictionary as an input from the user and then prints the average of all the values in the dictionary.\n",
    "#[You are not allowed to use len() and sum()]\n",
    "#===================================================================\n",
    "#Hint (1): For taking dictionary input\n",
    "#Approach (1): For taking dictionary as an input from the user, you may take the whole dictionary as a string using the input() function. Then you can use the split(), strip() functions and conditions to get the keys and values from the string. Finally, you can make the dictionary using the obtained data.\n",
    "#Approach (2): If the first approach seems too difficult you can create an empty dictionary and then just run a simple loop. For each iteration ask the user for a key and a value using the input() function and keep updating the dictionary with the key and value.\n",
    "#Hint (2): After you have a dictionary, you can use dictionary functions to get all the values from it, run loop to calculate the sum and the total number of values in the dictionary in order to find out the average.\n",
    "#task 8\n",
    "\n",
    "n=int(input())\n",
    "dict1={}\n",
    "for i in range(n):\n",
    "    key=input(\"Enter key: \")\n",
    "    value=input(\"Enter values: \") # string hishebe dicchi\n",
    "    dict1[key]=value\n",
    "print(dict1)\n",
    "add=0\n",
    "for i in dict1.values():\n",
    "    add+=int(i) # string ke int kora lagbe\n",
    "print(f\"average is {add//n}\")"
   ]
  },
  {
   "cell_type": "code",
   "execution_count": 11,
   "id": "8e199513",
   "metadata": {},
   "outputs": [
    {
     "name": "stdout",
     "output_type": "stream",
     "text": [
      "170\n",
      "{'Cierra Vega': 175, 'Alden Cantrell': 200, 'Pierre Cox': 190}\n"
     ]
    }
   ],
   "source": [
    "#TASK 9\n",
    "#Suppose there is a dictionary named exam_marks as given below.\n",
    "#exam_marks = {'Cierra Vega': 175, 'Alden Cantrell': 200, 'Kierra Gentry': 165, 'Pierre Cox': 190}\n",
    "#Write a Python program that takes an input from the user and creates a new dictionary with only those elements from 'exam_marks' whose keys have values higher than the user input (inclusive).\n",
    "\n",
    "\n",
    "exam_marks = {'Cierra Vega': 175, 'Alden Cantrell': 200, 'Kierra Gentry': 165, 'Pierre Cox': 190}\n",
    "dict1=exam_marks.copy()\n",
    "n=int(input())\n",
    "\n",
    "for key,value in exam_marks.items():\n",
    "    if (n>=dict1[key]):\n",
    "        del dict1[key]\n",
    "print(dict1)"
   ]
  },
  {
   "cell_type": "code",
   "execution_count": 4,
   "id": "23247108",
   "metadata": {},
   "outputs": [
    {
     "name": "stdout",
     "output_type": "stream",
     "text": [
      "The highest selling book genre is 'mystery' and the number of books sold are 15\n"
     ]
    }
   ],
   "source": [
    "#Task 10\n",
    "#Write a Python program that finds the largest value with its key from a given dictionary.\n",
    "#[You are not allowed to use the max() function for this task]\n",
    "#Note: You do not need to take the dictionaries as an input from the user but your code should work for any given dictionary. Also, you need to handle the quotation marks as a part of the output.\n",
    "#Hint: Think of membership operators (in and not in). You can use dictionary functions to get the values.\n",
    "\n",
    "dict1={'sci fi': 12, 'mystery': 15, 'horror': 8, 'mythology': 10, 'young_adult': 4, 'adventure':14}\n",
    "maxm=dict1['sci fi']\n",
    "for key in dict1.keys():\n",
    "    if dict1[key]>maxm:\n",
    "        maxm=dict1[key]\n",
    "        name=(key)\n",
    "print(f\"The highest selling book genre is '{name}' and the number of books sold are {maxm}\")"
   ]
  },
  {
   "cell_type": "code",
   "execution_count": 3,
   "id": "dd469831",
   "metadata": {},
   "outputs": [
    {
     "name": "stdout",
     "output_type": "stream",
     "text": [
      "PLEASE INSERT: \"pythion is fun\"\n",
      "pythionisfun\n",
      "{'p': 1, 'y': 1, 't': 1, 'h': 1, 'i': 2, 'o': 1, 'n': 2, 's': 1, 'f': 1, 'u': 1}\n"
     ]
    }
   ],
   "source": [
    "#TASK 11\n",
    "#Write a Python program that takes a String as an input from the user and counts the frequency of each character using a dictionary. \n",
    "#For solving this problem, you may use each character as a key and its frequency as values. [You are not allowed to use the count() function]\n",
    "#Hint: You can create a new dictionary to store the frequencies. You may ignore case for simplicity (i.e. may consider P and p to be the same).\n",
    "\n",
    "\n",
    "n=input(\"PLEASE INSERT: \")\n",
    "x=n.strip('\"\"').replace(\" \",\"\").lower()\n",
    "dict1={}\n",
    "print(x)\n",
    "for i in x:\n",
    "    if i in dict1:\n",
    "        dict1[i]+=1\n",
    "    else:\n",
    "        dict1[i]=1\n",
    "print(dict1)"
   ]
  },
  {
   "cell_type": "code",
   "execution_count": 19,
   "id": "977e0fac",
   "metadata": {},
   "outputs": [
    {
     "name": "stdout",
     "output_type": "stream",
     "text": [
      "9\n"
     ]
    }
   ],
   "source": [
    "#TASK 12\n",
    "#Suppose you are given the following dictionary where the values are lists.\n",
    "#dict_1 = {'A': [1, 2, 3], 'b': ['1', '2'], \"c\": [4, 5, 6, 7]}\n",
    "#Write a Python program that counts the total number of items in a dictionary’s values and prints it.\n",
    "#[Without using sum(), len(), count() functions]\n",
    "#Note: Make changes to the above dictionary and see if your code works properly for other dictionaries as well.\n",
    "\n",
    "dict_1 = {'A': [1, 2, 3], 'b': ['1', '2'], \"c\": [4, 5, 6, 7]}\n",
    "count=0\n",
    "for i in dict_1.values():\n",
    "    for val in i:\n",
    "        count+=1\n",
    "print(count)"
   ]
  },
  {
   "cell_type": "code",
   "execution_count": 2,
   "id": "cce508c8",
   "metadata": {},
   "outputs": [
    {
     "name": "stdout",
     "output_type": "stream",
     "text": [
      "{'a': [1, 3, 2], 'b': [2, 1], 'c': [1]}\n"
     ]
    }
   ],
   "source": [
    "#TASK 13 (my method)\n",
    "#Suppose you have been given the following list of tuples.\n",
    "#list_1 = [(\"a\", 1), (\"b\", 2), (\"a\", 3), (\"b\", 1), (\"a\", 2), (\"c\", 1)]\n",
    "#Write a Python program that converts this list of tuples into a dictionary and then prints the dictionary. The items in each tuple are a key and its value respectively. You need to group the values with the same keys into a list as shown below.\n",
    "#[You are not allowed to use set]\n",
    "#Hint: Think of membership operators (in and not in).\n",
    "\n",
    "\n",
    "list1=[(\"a\", 1), (\"b\", 2), (\"a\", 3), (\"b\", 1), (\"a\", 2), (\"c\", 1)]\n",
    "dict1={}\n",
    "for tup in list1:\n",
    "    key,value = tup\n",
    "    if key in dict1.keys():\n",
    "        dict1[key].append(value)\n",
    "    else:\n",
    "        dict1[key] = [value]\n",
    "print(dict1)\n",
    "#or,\n",
    "list1 = [(\"a\", 1), (\"b\", 2), (\"a\", 3), (\"b\", 1), (\"a\", 2), (\"c\", 1)]\n",
    "d={}\n",
    "\n",
    "for tup in list1:\n",
    "    key,value=tup\n",
    "    if key not in d.keys():\n",
    "        d[key]=[value]\n",
    "    else:\n",
    "        d[key].append(value)\n",
    "print(d)"
   ]
  },
  {
   "cell_type": "code",
   "execution_count": 3,
   "id": "e7ee4c6e",
   "metadata": {},
   "outputs": [
    {
     "name": "stdout",
     "output_type": "stream",
     "text": [
      "{'a': [1, 3, 2], 'b': [2, 1], 'c': [1]}\n",
      "{'a': [1, 3, 2], 'b': [2, 1], 'c': [1]}\n"
     ]
    }
   ],
   "source": [
    "#alternate methods\n",
    "a_list = [(\"a\", 1), (\"b\", 2), (\"a\", 3), (\"b\", 1), (\"a\", 2), (\"c\", 1)]\n",
    "a_dict = {}\n",
    "for a_tuple in a_list:\n",
    "    key, value = a_tuple\n",
    "    \n",
    "    if(key in a_dict):\n",
    "        a_dict[key].append(value)\n",
    "        continue\n",
    "    a_dict[key] = [value] \n",
    "print(a_dict)\n",
    "#or,\n",
    "list1 = [(\"a\", 1), (\"b\", 2), (\"a\", 3), (\"b\", 1), (\"a\", 2), (\"c\", 1)]\n",
    "d={}\n",
    "\n",
    "for tup in list1:\n",
    "    key,value=tup\n",
    "    if key not in d.keys():\n",
    "        d[key]=[value]\n",
    "    else:\n",
    "        d[key].append(value)\n",
    "print(d)\n",
    "        "
   ]
  },
  {
   "cell_type": "code",
   "execution_count": 2,
   "id": "74ec639b",
   "metadata": {},
   "outputs": [
    {
     "name": "stdout",
     "output_type": "stream",
     "text": [
      "{'a': [1, 3, 2], 'b': [2, 1], 'c': [1]}\n"
     ]
    }
   ],
   "source": [
    "list1=[(\"a\", 1), (\"b\", 2), (\"a\", 3), (\"b\", 1), (\"a\", 2), (\"c\", 1)]\n",
    "dict1=dict()\n",
    "for key,val in list1:\n",
    "    dict1.setdefault(key,[]).append(val)\n",
    "print(dict1)"
   ]
  },
  {
   "cell_type": "code",
   "execution_count": 24,
   "id": "65772f97",
   "metadata": {},
   "outputs": [
    {
     "name": "stdout",
     "output_type": "stream",
     "text": [
      "[6, 20, 42, 16]\n"
     ]
    }
   ],
   "source": [
    "#task 15\n",
    "#Given a list of tuples, \n",
    "#your task is to multiply the elements of the tuple and return a list of multiplied elements as shown below.\n",
    "\n",
    "given=[(2, 3), (4, 5), (6, 7), (2, 8)]\n",
    "list1=[]\n",
    "for tup in given:\n",
    "    one,two=tup\n",
    "    multiply=one*two\n",
    "    list1.append(multiply)\n",
    "print(list1)\n"
   ]
  },
  {
   "cell_type": "code",
   "execution_count": 3,
   "id": "8e6beb6c",
   "metadata": {},
   "outputs": [
    {
     "name": "stdout",
     "output_type": "stream",
     "text": [
      "enter: abc\n",
      "([1, 2, 'abc'], [4, 5, 'abc'], [7, 8, 'abc'], [10, 11, 'abc'])\n",
      "([1, 2, 'abc'], [4, 5, 'abc'], [7, 8, 'abc'], [10, 11, 'abc'])\n"
     ]
    }
   ],
   "source": [
    "#task 16\n",
    "# Assume, you have been given a tuple as below.\n",
    "#a_tuple = ( [1, 2, 3], [4, 5, 6], [7, 8, 9], [10, 11, 12])\n",
    "#Write a Python program that asks the user for an input (can be any data type) and replaces the last element of each of the inner lists with the user given value.\n",
    "\n",
    "\n",
    "a_tuple = ( [1, 2, 3], [4, 5, 6], [7, 8, 9], [10, 11, 12])\n",
    "inp=input(\"enter: \")\n",
    "for item in a_tuple:\n",
    "    item[-1]=inp\n",
    "print(a_tuple)\n",
    "#====================================================\n",
    "for i in a_tuple:\n",
    "    for j in i:\n",
    "        i[-1]=inp\n",
    "print(a_tuple)"
   ]
  },
  {
   "cell_type": "code",
   "execution_count": 46,
   "id": "7459a9e0",
   "metadata": {},
   "outputs": [
    {
     "name": "stdout",
     "output_type": "stream",
     "text": [
      "{'c1': 'Red', 'c2': 'Green', 'd4': 'Blue'}\n"
     ]
    }
   ],
   "source": [
    "#Task 17\n",
    "#Suppose there is a dictionary named my_dictionary.\n",
    "#my_dictionary = {'c1':'Red', 'c2':'Green', 'c3':None, 'd4':'Blue', 'a5':None}.\n",
    "#Now write a Python program to remove empty items from the dictionary. [Empty items means keys without any values (None)].\n",
    "\n",
    "mydict = { 'c1':'Red', 'c2':'Green',\n",
    "                'c3':None,\n",
    "                'd4':'Blue',\n",
    "                'a5':None }\n",
    "new=mydict.copy()\n",
    "for val in mydict.keys():\n",
    "    if new[val]==None:\n",
    "        del new[val]\n",
    "print(new)"
   ]
  },
  {
   "cell_type": "code",
   "execution_count": 5,
   "id": "e37ae212",
   "metadata": {},
   "outputs": [
    {
     "name": "stdout",
     "output_type": "stream",
     "text": [
      "{'c1': 'Red', 'c2': 'Green', 'd4': 'Blue'}\n",
      "{'c1': 'Red', 'c2': 'Green', 'd4': 'Blue'}\n"
     ]
    }
   ],
   "source": [
    "my_dictionary = {'c1':'Red', \n",
    "                 'c2':'Green',\n",
    "                 'c3':None, \n",
    "                 'd4':'Blue',\n",
    "                 'a5':None}\n",
    "pop=[\"c3\", \"a5\"]\n",
    "for i in pop:\n",
    "    my_dictionary.pop(i)\n",
    "print(my_dictionary)\n",
    "# or,\n",
    "d={}\n",
    "for key,value in my_dictionary.items():\n",
    "    if value != None:\n",
    "        d[key] = value\n",
    "print(d)"
   ]
  },
  {
   "cell_type": "code",
   "execution_count": 50,
   "id": "06f81a97",
   "metadata": {},
   "outputs": [
    {
     "name": "stdout",
     "output_type": "stream",
     "text": [
      "14\n",
      "18\n",
      "{}\n"
     ]
    }
   ],
   "source": [
    "#task 18\n",
    "#Suppose you are given a dictionary as shown below. \n",
    "#Write a Python program that takes two inputs from the \n",
    "#user representing the lower (inclusive) and \n",
    "#upper (exclusive) of a range of values. \n",
    "#Your task is to extract all the items from the dictionary whose values lie in the range given as input by the user.\n",
    "\n",
    "dict_1 = {'a' : 6,'b' : 7, 'c' : 9,'d' : 8, 'e' : 11, \n",
    "          'f' : 12,\n",
    "          'g' : 13}\n",
    "lower=int(input())\n",
    "upper=int(input())\n",
    "new={}\n",
    "for key,value in dict_1.items():\n",
    "    if value>=lower and value<upper:\n",
    "        new[key]=value\n",
    "print(new)"
   ]
  },
  {
   "cell_type": "code",
   "execution_count": 17,
   "id": "15e4d117",
   "metadata": {},
   "outputs": [
    {
     "name": "stdout",
     "output_type": "stream",
     "text": [
      "{80: [(20, 80), (31, 80)], 22: [(1, 22)], 11: [(88, 11), (27, 11)]}\n"
     ]
    }
   ],
   "source": [
    "#TAsk 19\n",
    "#Given a list of tuples, your task is to group the tuples based on the second element in the tuples as shown in the examples below. We can achieve this using dictionary by checking the second element in each tuple.\n",
    "#[You do not need to take tuple as input and can assume that it is given as below]\n",
    "\n",
    "Input = [(20, 80), (31, 80), (1, 22), (88, 11), (27, 11)]\n",
    "Output = {}\n",
    "for x, y in Input:\n",
    "    if y in Output:\n",
    "        Output[y].append((x, y))\n",
    "    else:\n",
    "        Output[y] = [(x, y)]\n",
    "print(Output)"
   ]
  },
  {
   "cell_type": "code",
   "execution_count": 19,
   "id": "53987df8",
   "metadata": {},
   "outputs": [
    {
     "name": "stdout",
     "output_type": "stream",
     "text": [
      "{80: [(20, 80), (31, 80)], 22: [(1, 22)], 11: [(88, 11), (27, 11)]}\n"
     ]
    }
   ],
   "source": [
    "#task 19\n",
    "glist = [(20, 80), (31, 80), (1, 22), (88, 11), (27, 11)]\n",
    "d={}\n",
    "for i in glist:\n",
    "    if i[1] not in d:\n",
    "        key=i[1]\n",
    "        val=i\n",
    "        d[key]=[val]\n",
    "    else:\n",
    "       \n",
    "        d[key].append(i)\n",
    "print(d)"
   ]
  },
  {
   "cell_type": "code",
   "execution_count": null,
   "id": "2b94eb0d",
   "metadata": {},
   "outputs": [],
   "source": []
  }
 ],
 "metadata": {
  "kernelspec": {
   "display_name": "Python 3 (ipykernel)",
   "language": "python",
   "name": "python3"
  },
  "language_info": {
   "codemirror_mode": {
    "name": "ipython",
    "version": 3
   },
   "file_extension": ".py",
   "mimetype": "text/x-python",
   "name": "python",
   "nbconvert_exporter": "python",
   "pygments_lexer": "ipython3",
   "version": "3.9.12"
  }
 },
 "nbformat": 4,
 "nbformat_minor": 5
}
